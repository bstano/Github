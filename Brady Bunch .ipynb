{
 "cells": [
  {
   "cell_type": "markdown",
   "metadata": {},
   "source": [
    "## The Brady Bunch\n",
    "\n",
    "\n",
    "One of TV's most iconic shows, The Brady Bunch was on the air for 5 seasons, an enternity at the time, and left a lasting impact on American pop culture.\n",
    "\n",
    "Why don't we take a look at some of the ages for the kids? We can use Python to let us visualize as we discuss. Why don't we set up our Python environemnt."
   ]
  },
  {
   "cell_type": "code",
   "execution_count": 30,
   "metadata": {},
   "outputs": [],
   "source": [
    "import numpy as np\n",
    "import pandas as pd\n",
    "import matplotlib.pyplot as plt\n",
    "import math\n",
    "%matplotlib inline\n",
    "#import for making good visualizations in Jupyter"
   ]
  },
  {
   "cell_type": "markdown",
   "metadata": {},
   "source": [
    "Greg was 14, Marcia was 12, Peter was 11, Jan was 10, Bobby was 8, and Cindy was 6 when they started playing the Brady kids on The Brady Bunch. Let's create a data frame called 'brady' to show the Brady kids ages and plot and compute the mean, median, standard deviation (sd), variance, and standard error (se)."
   ]
  },
  {
   "cell_type": "code",
   "execution_count": 124,
   "metadata": {},
   "outputs": [
    {
     "name": "stdout",
     "output_type": "stream",
     "text": [
      "Season 5 mean:      10.17\n",
      "Season 5 median:    10.5\n",
      "Season 5 SD :       2.61\n",
      "Season 5 variance:  6.81\n",
      "Season 5 SE :       1.17\n"
     ]
    }
   ],
   "source": [
    "brady = pd.DataFrame([14,12,11,10,8,6])\n",
    "\n",
    "mean = sum(brady[0])/len(brady)\n",
    "median = np.median(brady[0])\n",
    "sd = np.std(brady[0])\n",
    "variance = np.var(brady[0])\n",
    "se = np.std(brady[0])/np.sqrt(len(brady)-1)\n",
    "print(\"Season 5 mean:     \",round(mean, 2))\n",
    "print(\"Season 5 median:   \",median)\n",
    "print(\"Season 5 SD :      \",round(sd, 2))\n",
    "print(\"Season 5 variance: \",round(variance, 2))\n",
    "print(\"Season 5 SE :      \",round(se, 2))"
   ]
  },
  {
   "cell_type": "markdown",
   "metadata": {},
   "source": [
    "As I said before, The Brady Bunch did last 5 seasons. So lets creates data frames for all of them. We can also create an array with the ages from all the seasons, this will come in handy later."
   ]
  },
  {
   "cell_type": "code",
   "execution_count": 72,
   "metadata": {},
   "outputs": [],
   "source": [
    "brady1 = brady\n",
    "brady2 = brady + 1\n",
    "brady3 = brady + 2\n",
    "brady4 = brady + 3\n",
    "brady5 = brady + 4 \n",
    "all_seasons = [brady1[0], brady2[0], brady3[0], brady4[0], brady5[0]]"
   ]
  },
  {
   "cell_type": "markdown",
   "metadata": {},
   "source": [
    "Now that we're all set up, lets plot our data. We can plot it as a box a whisker plot."
   ]
  },
  {
   "cell_type": "code",
   "execution_count": 146,
   "metadata": {},
   "outputs": [
    {
     "data": {
      "image/png": "[encoded data removed]",
      "text/plain": [
       "<Figure size 1368x288 with 5 Axes>"
      ]
     },
     "metadata": {},
     "output_type": "display_data"
    },
    {
     "data": {
      "image/png": "[encoded data removed]",
      "text/plain": [
       "<Figure size 432x288 with 1 Axes>"
      ]
     },
     "metadata": {},
     "output_type": "display_data"
    }
   ],
   "source": [
    "plt.figure(figsize=(19, 4))\n",
    "\n",
    "#set up the plot where the box plots have there own x and y axes\n",
    "plt.subplot(1, 5, 1)\n",
    "plt.boxplot(brady1[0])\n",
    "plt.title('Season 1')\n",
    "plt.ylabel('Age')\n",
    "#set up a set age range for this subplot\n",
    "axes = plt.gca()\n",
    "axes.set_ylim(5,19)\n",
    "\n",
    "plt.subplot(1, 5, 2)\n",
    "plt.boxplot(brady2[0])\n",
    "plt.title('Season 2')\n",
    "plt.ylabel('Age')\n",
    "axes = plt.gca()\n",
    "axes.set_ylim(5,19)\n",
    "\n",
    "plt.subplot(1, 5, 3)\n",
    "plt.boxplot(brady3[0])\n",
    "plt.title('Season 3')\n",
    "plt.ylabel('Age')\n",
    "axes = plt.gca()\n",
    "axes.set_ylim(5,19)\n",
    "\n",
    "plt.subplot(1, 5, 4)\n",
    "plt.boxplot(brady4[0])\n",
    "plt.title('Season 4')\n",
    "plt.ylabel('Age')\n",
    "axes = plt.gca()\n",
    "axes.set_ylim(5,19)\n",
    "\n",
    "plt.subplot(1, 5, 5)\n",
    "plt.boxplot(brady5[0])\n",
    "plt.title('Season 5')\n",
    "plt.ylabel('Age')\n",
    "axes = plt.gca()\n",
    "axes.set_ylim(5,19)\n",
    "\n",
    "plt.show()\n",
    "\n",
    "#set up a plot where all th box plots are on one x and y axis, my personal preference\n",
    "fig, ax = plt.subplots()\n",
    "#this is where creating an all-season array comes in handy\n",
    "ax.boxplot(all_seasons) \n",
    "plt.title('Age Amoung all Seasons')\n",
    "\n",
    "plt.show()"
   ]
  },
  {
   "cell_type": "markdown",
   "metadata": {},
   "source": [
    "## Aren't We Forgetting Someone?\n",
    "\n",
    "\n",
    "Of course, season 5 had something speacial about it, cousin Oliver, who entered in season 5 at age 8.  Let's update our data and see how it changes. "
   ]
  },
  {
   "cell_type": "code",
   "execution_count": 147,
   "metadata": {},
   "outputs": [
    {
     "name": "stderr",
     "output_type": "stream",
     "text": [
      "c:\\users\\ben stano\\appdata\\local\\programs\\python\\python36-32\\lib\\site-packages\\numpy\\core\\fromnumeric.py:52: FutureWarning: reshape is deprecated and will raise in a subsequent release. Please use .values.reshape(...) instead\n",
      "  return getattr(obj, method)(*args, **kwds)\n"
     ]
    },
    {
     "data": {
      "image/png": "[encoded data removed]",
      "text/plain": [
       "<Figure size 432x288 with 1 Axes>"
      ]
     },
     "metadata": {},
     "output_type": "display_data"
    }
   ],
   "source": [
    "brady5_o = pd.DataFrame([18,16,15,14,12,10,8])\n",
    "all_seasons_o = [brady1[0], brady2[0], brady3[0], brady4[0], brady5[0], brady5_o[0]]\n",
    "\n",
    "fig, ax = plt.subplots()\n",
    "ax.boxplot(all_seasons_o)\n",
    "plt.title('Age Amoung all Seasons with Oliver')\n",
    "\n",
    "plt.show()"
   ]
  },
  {
   "cell_type": "markdown",
   "metadata": {},
   "source": [
    "We can even compare early season 5 and late season 5, with cousin Oliver, side by side. "
   ]
  },
  {
   "cell_type": "code",
   "execution_count": 137,
   "metadata": {},
   "outputs": [
    {
     "name": "stdout",
     "output_type": "stream",
     "text": [
      "Season 5 mean:      14.17   with Oliver:  13.29\n",
      "Season 5 median:    14.5    with Oliver:  14.0\n",
      "Season 5 SD :       2.61    with Oliver:  3.24\n",
      "Season 5 variance:  6.81    with Oliver:  10.49\n",
      "Season 5 SE :       1.17    with Oliver:  1.32\n"
     ]
    },
    {
     "name": "stderr",
     "output_type": "stream",
     "text": [
      "c:\\users\\ben stano\\appdata\\local\\programs\\python\\python36-32\\lib\\site-packages\\numpy\\core\\fromnumeric.py:52: FutureWarning: reshape is deprecated and will raise in a subsequent release. Please use .values.reshape(...) instead\n",
      "  return getattr(obj, method)(*args, **kwds)\n"
     ]
    },
    {
     "data": {
      "image/png": "[encoded data removed]",
      "text/plain": [
       "<Figure size 432x288 with 1 Axes>"
      ]
     },
     "metadata": {},
     "output_type": "display_data"
    }
   ],
   "source": [
    "mean5 = sum(brady5[0])/len(brady5)\n",
    "median5 = np.median(brady5[0])\n",
    "sd5 = np.std(brady5[0])\n",
    "variance5 = np.var(brady5[0])\n",
    "se5 = np.std(brady5[0])/np.sqrt(len(brady5)-1)\n",
    "\n",
    "mean5_o = sum(brady5_o[0])/len(brady5_o)\n",
    "median5_o = np.median(brady5_o[0])\n",
    "sd5_o = np.std(brady5_o[0])\n",
    "variance5_o = np.var(brady5_o[0])\n",
    "se5_o = np.std(brady5_o[0])/np.sqrt(len(brady5_o)-1)\n",
    "\n",
    "print(\"Season 5 mean:     \",round(mean5, 2),\"  with Oliver: \",round(mean5_o, 2))\n",
    "print(\"Season 5 median:   \",median5,\"   with Oliver: \",median5_o)\n",
    "print(\"Season 5 SD :      \",round(sd5, 2),\"   with Oliver: \",round(sd5_o, 2))\n",
    "print(\"Season 5 variance: \",round(variance5, 2),\"   with Oliver: \",round(variance5_o, 2))\n",
    "print(\"Season 5 SE :      \",round(se5, 2),\"   with Oliver: \",round(se5_o, 2))\n",
    "\n",
    "season_5 = [brady5[0], brady5_o[0]]\n",
    "\n",
    "fig, ax = plt.subplots()\n",
    "ax.boxplot(season_5)\n",
    "plt.title('Season 5 Without Oliver vs. With Oliver')\n",
    "\n",
    "plt.show()"
   ]
  },
  {
   "cell_type": "markdown",
   "metadata": {},
   "source": [
    "As we can see, Oliver really brought the age range down.  "
   ]
  },
  {
   "cell_type": "markdown",
   "metadata": {},
   "source": [
    "## What if...?\n",
    "\n",
    "\n",
    "What if the CEOs of the network had decided that all they needed to go for one more season was another kid even younger than Oliver.  Let's say that added a 1 year old, Olivia, in season 6.  What would that look like?"
   ]
  },
  {
   "cell_type": "code",
   "execution_count": 149,
   "metadata": {},
   "outputs": [
    {
     "name": "stderr",
     "output_type": "stream",
     "text": [
      "c:\\users\\ben stano\\appdata\\local\\programs\\python\\python36-32\\lib\\site-packages\\numpy\\core\\fromnumeric.py:52: FutureWarning: reshape is deprecated and will raise in a subsequent release. Please use .values.reshape(...) instead\n",
      "  return getattr(obj, method)(*args, **kwds)\n"
     ]
    },
    {
     "data": {
      "image/png": "[encoded data removed]",
      "text/plain": [
       "<Figure size 432x288 with 1 Axes>"
      ]
     },
     "metadata": {},
     "output_type": "display_data"
    }
   ],
   "source": [
    "brady6 = pd.DataFrame([19,17,16,15,13,11,9,1])\n",
    "\n",
    "what_if = [brady1[0], brady2[0], brady3[0], brady4[0], brady5[0], brady5_o[0], brady6[0]]\n",
    "\n",
    "fig, ax = plt.subplots()\n",
    "ax.boxplot(what_if)\n",
    "plt.title('The \"What if?\" Seasons')\n",
    "\n",
    "plt.show()"
   ]
  },
  {
   "cell_type": "markdown",
   "metadata": {},
   "source": [
    "As we can see, having a baby on this show would've really been strange.  From a statistical standpoint it would've created an outlier in the data and warped the whole box plot.  That might be why from a viewing standpoint, it would feel desperate and sad. "
   ]
  },
  {
   "cell_type": "code",
   "execution_count": null,
   "metadata": {},
   "outputs": [],
   "source": []
  },
  {
   "cell_type": "code",
   "execution_count": null,
   "metadata": {},
   "outputs": [],
   "source": []
  },
  {
   "cell_type": "code",
   "execution_count": null,
   "metadata": {},
   "outputs": [],
   "source": []
  }
 ],
 "metadata": {
  "kernelspec": {
   "display_name": "Python 3",
   "language": "python",
   "name": "python3"
  },
  "language_info": {
   "codemirror_mode": {
    "name": "ipython",
    "version": 3
   },
   "file_extension": ".py",
   "mimetype": "text/x-python",
   "name": "python",
   "nbconvert_exporter": "python",
   "pygments_lexer": "ipython3",
   "version": "3.6.4"
  }
 },
 "nbformat": 4,
 "nbformat_minor": 2
}
